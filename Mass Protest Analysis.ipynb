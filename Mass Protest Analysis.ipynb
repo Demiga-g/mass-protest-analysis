{
 "cells": [
  {
   "cell_type": "markdown",
   "id": "230a9b39",
   "metadata": {},
   "source": [
    "## Imports and Dataset"
   ]
  },
  {
   "cell_type": "code",
   "execution_count": 1,
   "id": "961cc62a",
   "metadata": {
    "ExecuteTime": {
     "end_time": "2022-03-30T05:54:31.697481Z",
     "start_time": "2022-03-30T05:54:27.021939Z"
    }
   },
   "outputs": [],
   "source": [
    "import pandas as pd\n",
    "import numpy as np\n",
    "import matplotlib.pyplot as plt\n",
    "import seaborn as sns\n",
    "%matplotlib inline\n",
    "sns.set_palette('viridis')\n",
    "from datetime import timedelta\n",
    "\n",
    "from sklearn.model_selection import train_test_split\n",
    "from sklearn.svm import SVC\n",
    "from sklearn.linear_model import LogisticRegression\n",
    "from sklearn.neighbors import KNeighborsClassifier\n",
    "from sklearn.preprocessing import StandardScaler\n",
    "from sklearn.pipeline import Pipeline\n",
    "from sklearn.metrics import classification_report\n",
    "\n",
    "protests_data = pd.read_csv('mass_protest.csv')"
   ]
  },
  {
   "cell_type": "markdown",
   "id": "99c34535",
   "metadata": {},
   "source": [
    "## About the Dataset\n",
    "\n",
    "The [protest dataset](https://github.com/datacamp/careerhub-data/tree/master/Mass%20Protest%20Data) contains data from protest events recorded in different continents. It has 31 columns and 17145 rows of data."
   ]
  },
  {
   "cell_type": "code",
   "execution_count": 2,
   "id": "92ca3c5f",
   "metadata": {
    "ExecuteTime": {
     "end_time": "2022-03-30T05:54:32.283441Z",
     "start_time": "2022-03-30T05:54:32.183183Z"
    }
   },
   "outputs": [
    {
     "name": "stdout",
     "output_type": "stream",
     "text": [
      "<class 'pandas.core.frame.DataFrame'>\n",
      "RangeIndex: 17145 entries, 0 to 17144\n",
      "Data columns (total 31 columns):\n",
      " #   Column                 Non-Null Count  Dtype  \n",
      "---  ------                 --------------  -----  \n",
      " 0   id                     17145 non-null  int64  \n",
      " 1   country                17145 non-null  object \n",
      " 2   ccode                  17145 non-null  int64  \n",
      " 3   year                   17145 non-null  int64  \n",
      " 4   region                 17145 non-null  object \n",
      " 5   protest                17145 non-null  int64  \n",
      " 6   protestnumber          17145 non-null  int64  \n",
      " 7   startday               15239 non-null  float64\n",
      " 8   startmonth             15239 non-null  float64\n",
      " 9   startyear              15239 non-null  float64\n",
      " 10  endday                 15239 non-null  float64\n",
      " 11  endmonth               15239 non-null  float64\n",
      " 12  endyear                15239 non-null  float64\n",
      " 13  protesterviolence      15758 non-null  float64\n",
      " 14  location               15218 non-null  object \n",
      " 15  participants_category  9887 non-null   object \n",
      " 16  participants           15746 non-null  object \n",
      " 17  protesteridentity      14684 non-null  object \n",
      " 18  protesterdemand1       15238 non-null  object \n",
      " 19  protesterdemand2       2977 non-null   object \n",
      " 20  protesterdemand3       383 non-null    object \n",
      " 21  protesterdemand4       831 non-null    object \n",
      " 22  stateresponse1         15208 non-null  object \n",
      " 23  stateresponse2         2888 non-null   object \n",
      " 24  stateresponse3         930 non-null    object \n",
      " 25  stateresponse4         244 non-null    object \n",
      " 26  stateresponse5         849 non-null    object \n",
      " 27  stateresponse6         16 non-null     object \n",
      " 28  stateresponse7         920 non-null    object \n",
      " 29  sources                15235 non-null  object \n",
      " 30  notes                  15193 non-null  object \n",
      "dtypes: float64(7), int64(5), object(19)\n",
      "memory usage: 4.1+ MB\n"
     ]
    }
   ],
   "source": [
    "protests_data.info()"
   ]
  },
  {
   "cell_type": "markdown",
   "id": "fe156eac",
   "metadata": {},
   "source": [
    "# **Cleaning the Dataset**"
   ]
  },
  {
   "cell_type": "markdown",
   "id": "ce97ea5a",
   "metadata": {},
   "source": [
    "## Concatenating Date Columns\n",
    "\n",
    "The following columns will be joined: \n",
    "\n",
    "$\\checkmark$ `startday`, `startmonth`, and `startyear` to a column called `startperiod`\n",
    "\n",
    "$\\checkmark$ `endday`, `endmonth`, and `endyear` to a column called `endperiod`\n",
    "\n",
    "- However, should any of these columns contain a missing value, the data for that entry will be dropped. As a result, 1906 data entries were dropped."
   ]
  },
  {
   "cell_type": "code",
   "execution_count": 3,
   "id": "4939f5e4",
   "metadata": {},
   "outputs": [
    {
     "data": {
      "text/plain": [
       "startday      0\n",
       "startmonth    0\n",
       "startyear     0\n",
       "endday        0\n",
       "endmonth      0\n",
       "endyear       0\n",
       "dtype: int64"
      ]
     },
     "execution_count": 3,
     "metadata": {},
     "output_type": "execute_result"
    }
   ],
   "source": [
    "date_columns = ['startday', 'startmonth', 'startyear', 'endday', 'endmonth', 'endyear']\n",
    "protests_data.dropna(subset=date_columns, inplace=True)\n",
    "protests_data[date_columns].isna().sum()"
   ]
  },
  {
   "cell_type": "markdown",
   "id": "522df8f4",
   "metadata": {},
   "source": [
    "- To concatenate these columns, the dtypes for these colums will be changed to integers instead of floats."
   ]
  },
  {
   "cell_type": "code",
   "execution_count": 4,
   "id": "236b6026",
   "metadata": {},
   "outputs": [
    {
     "data": {
      "text/plain": [
       "startday      int32\n",
       "startmonth    int32\n",
       "startyear     int32\n",
       "endday        int32\n",
       "endmonth      int32\n",
       "endyear       int32\n",
       "dtype: object"
      ]
     },
     "execution_count": 4,
     "metadata": {},
     "output_type": "execute_result"
    }
   ],
   "source": [
    "protests_data[date_columns] = protests_data[date_columns].apply(lambda x: x.astype('int'))\n",
    "protests_data[date_columns].dtypes"
   ]
  },
  {
   "cell_type": "markdown",
   "id": "29b93970",
   "metadata": {},
   "source": [
    "- Finally, we'll concatenate these columns as required."
   ]
  },
  {
   "cell_type": "code",
   "execution_count": 5,
   "id": "9a9d46ae",
   "metadata": {},
   "outputs": [],
   "source": [
    "protests_data['startperiod'] = protests_data['startday'].map(str) + '-'\\\n",
    "        + protests_data['startmonth'].map(str) + '-'\\\n",
    "        + protests_data['startyear'].map(str)\n",
    "\n",
    "protests_data['endperiod'] = protests_data['endday'].map(str) + '-'\\\n",
    "        + protests_data['endmonth'].map(str) + '-'\\\n",
    "        + protests_data['endyear'].map(str)"
   ]
  },
  {
   "cell_type": "markdown",
   "id": "f9ffe5e2",
   "metadata": {},
   "source": [
    "- Now, these columns can be set to be of `datetime` data types "
   ]
  },
  {
   "cell_type": "code",
   "execution_count": 6,
   "id": "0ac21afd",
   "metadata": {},
   "outputs": [],
   "source": [
    "protests_data['endperiod'] = pd.to_datetime(protests_data['endperiod'], \n",
    "                                            format='%d-%m-%Y')\n",
    "\n",
    "protests_data['startperiod'] = pd.to_datetime(protests_data['startperiod'],\n",
    "                                              format='%d-%m-%Y')"
   ]
  },
  {
   "cell_type": "markdown",
   "id": "34ac0ce1",
   "metadata": {},
   "source": [
    "## Removing Columns\n",
    "\n",
    "- With the created `startperiod` and `endperiod` columns, we can now remove the unnecessary columns. Remaining columns after dropping some columns will be 17."
   ]
  },
  {
   "cell_type": "code",
   "execution_count": 7,
   "id": "cc037df9",
   "metadata": {
    "ExecuteTime": {
     "end_time": "2022-03-30T05:54:32.816059Z",
     "start_time": "2022-03-30T05:54:32.762662Z"
    }
   },
   "outputs": [
    {
     "data": {
      "text/plain": [
       "(15239, 17)"
      ]
     },
     "execution_count": 7,
     "metadata": {},
     "output_type": "execute_result"
    }
   ],
   "source": [
    "col_drop = ['year', 'protesterdemand2', 'protesterdemand3', 'protesterdemand4', 'stateresponse2', \n",
    "            'stateresponse3', 'stateresponse4','stateresponse5', 'stateresponse6', 'stateresponse7',\n",
    "           'startyear', 'startmonth', 'startday', 'endyear', 'endmonth', 'endday']\n",
    "\n",
    "protests_data.drop(col_drop, axis=1, inplace=True)\n",
    "protests_data.shape"
   ]
  },
  {
   "cell_type": "markdown",
   "id": "029abd5d",
   "metadata": {},
   "source": [
    "## Handling Missing Values\n",
    "\n",
    "- Before handling missing values we check the dataset. There are two `datetime` columns, one float column, four integer columns and ten object columns. Out of these columns, it is evident that only the `object` columns contain missing values."
   ]
  },
  {
   "cell_type": "code",
   "execution_count": 8,
   "id": "63721335",
   "metadata": {},
   "outputs": [
    {
     "name": "stdout",
     "output_type": "stream",
     "text": [
      "<class 'pandas.core.frame.DataFrame'>\n",
      "Int64Index: 15239 entries, 0 to 17141\n",
      "Data columns (total 17 columns):\n",
      " #   Column                 Non-Null Count  Dtype         \n",
      "---  ------                 --------------  -----         \n",
      " 0   id                     15239 non-null  int64         \n",
      " 1   country                15239 non-null  object        \n",
      " 2   ccode                  15239 non-null  int64         \n",
      " 3   region                 15239 non-null  object        \n",
      " 4   protest                15239 non-null  int64         \n",
      " 5   protestnumber          15239 non-null  int64         \n",
      " 6   protesterviolence      15239 non-null  float64       \n",
      " 7   location               15218 non-null  object        \n",
      " 8   participants_category  9887 non-null   object        \n",
      " 9   participants           15227 non-null  object        \n",
      " 10  protesteridentity      14684 non-null  object        \n",
      " 11  protesterdemand1       15238 non-null  object        \n",
      " 12  stateresponse1         15208 non-null  object        \n",
      " 13  sources                15235 non-null  object        \n",
      " 14  notes                  15193 non-null  object        \n",
      " 15  startperiod            15239 non-null  datetime64[ns]\n",
      " 16  endperiod              15239 non-null  datetime64[ns]\n",
      "dtypes: datetime64[ns](2), float64(1), int64(4), object(10)\n",
      "memory usage: 2.1+ MB\n"
     ]
    }
   ],
   "source": [
    "protests_data.info()"
   ]
  },
  {
   "cell_type": "markdown",
   "id": "00c37e59",
   "metadata": {},
   "source": [
    "- To handle these columns, the null values will be replaced with the string `\"unspecified\"`."
   ]
  },
  {
   "cell_type": "code",
   "execution_count": 9,
   "id": "55b2bc64",
   "metadata": {
    "ExecuteTime": {
     "end_time": "2022-03-30T05:54:32.862933Z",
     "start_time": "2022-03-30T05:54:32.816059Z"
    }
   },
   "outputs": [
    {
     "data": {
      "text/plain": [
       "id                       0\n",
       "country                  0\n",
       "ccode                    0\n",
       "region                   0\n",
       "protest                  0\n",
       "protestnumber            0\n",
       "protesterviolence        0\n",
       "location                 0\n",
       "participants_category    0\n",
       "participants             0\n",
       "protesteridentity        0\n",
       "protesterdemand1         0\n",
       "stateresponse1           0\n",
       "sources                  0\n",
       "notes                    0\n",
       "startperiod              0\n",
       "endperiod                0\n",
       "dtype: int64"
      ]
     },
     "execution_count": 9,
     "metadata": {},
     "output_type": "execute_result"
    }
   ],
   "source": [
    "object_cols = protests_data.select_dtypes('object').columns\n",
    "protests_data = protests_data.fillna('unspecified')\n",
    "protests_data.isna().sum()"
   ]
  },
  {
   "cell_type": "markdown",
   "id": "1ec7ed2c",
   "metadata": {},
   "source": [
    "## Extracting Kenya's Data\n",
    "\n",
    "The data from Kenya will be used for analysis later on. "
   ]
  },
  {
   "cell_type": "code",
   "execution_count": 10,
   "id": "d6e602ce",
   "metadata": {
    "ExecuteTime": {
     "end_time": "2022-03-30T05:54:33.132490Z",
     "start_time": "2022-03-30T05:54:33.101239Z"
    }
   },
   "outputs": [
    {
     "name": "stdout",
     "output_type": "stream",
     "text": [
      "               id country  ccode  region  protest  protestnumber  \\\n",
      "10064  5011990001   Kenya    501  Africa        1              1   \n",
      "10065  5011990002   Kenya    501  Africa        1              2   \n",
      "\n",
      "       protesterviolence location participants_category participants  \\\n",
      "10064                0.0  Nairobi               100-999          100   \n",
      "10065                0.0  Nairobi            5000-10000        >7000   \n",
      "\n",
      "         protesteridentity             protesterdemand1 stateresponse1  \\\n",
      "10064  university students  political behavior, process         ignore   \n",
      "10065  university students  political behavior, process         ignore   \n",
      "\n",
      "                                                 sources  \\\n",
      "10064  yard to aid inquiry into kenya minister s deat...   \n",
      "10065  yard to aid inquiry into kenya minister s deat...   \n",
      "\n",
      "                                                   notes startperiod  \\\n",
      "10064  also on sunday, about 100 students demonstrate...  1990-02-18   \n",
      "10065  more than 7,000 students, wailing and waving b...  1990-02-21   \n",
      "\n",
      "       endperiod  \n",
      "10064 1990-02-18  \n",
      "10065 1990-02-21  \n"
     ]
    }
   ],
   "source": [
    "kenyan_protests = protests_data[protests_data.country=='Kenya']\n",
    "print(kenyan_protests.head(2))"
   ]
  },
  {
   "cell_type": "markdown",
   "id": "1b26cf51",
   "metadata": {},
   "source": [
    "## Conclusion on Cleaning Data\n",
    "\n",
    "Note that the steps performed are not the final steps for cleaning this data. More cleaning will be done as per the requirement when doing further analysis."
   ]
  },
  {
   "cell_type": "markdown",
   "id": "5c9be8c2",
   "metadata": {},
   "source": [
    "# **World Analysis**\n",
    "\n",
    "## Issues to Assess:\n",
    "\n",
    "1. Countries with highest and lowest number of protests\n",
    "2. Regions with highest and lowest number of protests\n",
    "3. Longest and shortest protests\n",
    "4. The frequent participants' category\n",
    "5. Count of violent and no violence protests\n",
    "6. What is the most protest reason based on protest demands\n",
    "\n",
    "$\\checkmark$ Disclaimer: Conclusion arrived at is done based on the cleaned dataset."
   ]
  },
  {
   "cell_type": "markdown",
   "id": "94766edf",
   "metadata": {},
   "source": [
    "## Distribution of Protests\n",
    "\n",
    "- Most countries have recorded protests numbers less than 400 and a few above 400. There are also no country with no recorded case of protest. "
   ]
  },
  {
   "cell_type": "code",
   "execution_count": 13,
   "id": "ff003155",
   "metadata": {
    "ExecuteTime": {
     "end_time": "2022-03-30T05:54:33.903368Z",
     "start_time": "2022-03-30T05:54:33.132490Z"
    }
   },
   "outputs": [
    {
     "data": {
      "image/png": "[encoded data removed]",
      "text/plain": [
       "<Figure size 432x288 with 1 Axes>"
      ]
     },
     "metadata": {
      "needs_background": "light"
     },
     "output_type": "display_data"
    }
   ],
   "source": [
    "number_protest = protests_data.country.value_counts()\n",
    "\n",
    "number_protest.plot(kind='hist', bins=20)\n",
    "plt.xlabel('Number of protests')\n",
    "plt.ylabel('Frequency of countries')\n",
    "plt.title('Distribution of Protests Based on Countries');"
   ]
  },
  {
   "cell_type": "markdown",
   "id": "bf55bbf9",
   "metadata": {},
   "source": [
    "## Top Ten and Bottom Ten Countries\n",
    "\n",
    "1. Based on number of protests, all the countries represented in the dataset has recorded atleast a protest.\n",
    "\n",
    "- United Kingdom lead with over 500 protests. "
   ]
  },
  {
   "cell_type": "code",
   "execution_count": 15,
   "id": "5bc8e2d2",
   "metadata": {
    "ExecuteTime": {
     "end_time": "2022-03-30T05:54:34.464196Z",
     "start_time": "2022-03-30T05:54:33.903368Z"
    }
   },
   "outputs": [
    {
     "data": {
      "image/png": "[encoded data removed]",
      "text/plain": [
       "<Figure size 432x288 with 1 Axes>"
      ]
     },
     "metadata": {},
     "output_type": "display_data"
    }
   ],
   "source": [
    "sns.set_style('whitegrid')\n",
    "number_protest.head(10).sort_values().plot(kind='barh')\n",
    "plt.margins(0.02)\n",
    "plt.xlabel('Number of protests')\n",
    "plt.ylabel('Country')\n",
    "plt.title('Top Ten Protest Countries');"
   ]
  },
  {
   "cell_type": "markdown",
   "id": "f4630081",
   "metadata": {},
   "source": [
    "- Qatar and South Sudan have only one case each of reported violence."
   ]
  },
  {
   "cell_type": "code",
   "execution_count": 16,
   "id": "1db8a75c",
   "metadata": {
    "ExecuteTime": {
     "end_time": "2022-03-30T05:54:34.956033Z",
     "start_time": "2022-03-30T05:54:34.464196Z"
    }
   },
   "outputs": [
    {
     "data": {
      "image/png": "[encoded data removed]",
      "text/plain": [
       "<Figure size 432x288 with 1 Axes>"
      ]
     },
     "metadata": {},
     "output_type": "display_data"
    }
   ],
   "source": [
    "number_protest.tail(10).sort_values().plot(kind='barh')\n",
    "plt.xticks([0, 1, 2, 3])\n",
    "plt.xlabel('Number of protests')\n",
    "plt.ylabel('Country')\n",
    "plt.title('Bottom Ten Protest Countries')\n",
    "sns.despine(right=True);"
   ]
  },
  {
   "cell_type": "markdown",
   "id": "0d77e396",
   "metadata": {},
   "source": [
    "## Region Protest\n",
    "\n",
    "- The Europe region accounts for more than 30% of the protest frequency while the Oceania region accounts for about 0.3% of the protest frequency."
   ]
  },
  {
   "cell_type": "code",
   "execution_count": 18,
   "id": "5b81df85",
   "metadata": {
    "ExecuteTime": {
     "end_time": "2022-03-30T05:54:35.507735Z",
     "start_time": "2022-03-30T05:54:34.956033Z"
    }
   },
   "outputs": [
    {
     "data": {
      "image/png": "[encoded data removed]",
      "text/plain": [
       "<Figure size 432x288 with 1 Axes>"
      ]
     },
     "metadata": {},
     "output_type": "display_data"
    }
   ],
   "source": [
    "region_protests = protests_data.region.value_counts(normalize=True)\n",
    "\n",
    "region_protests.sort_values().plot(kind='barh')\n",
    "sns.despine(right=True)\n",
    "plt.xlabel('percentage of protest incidences')\n",
    "plt.ylabel('Region')\n",
    "plt.title('Distribution of protests per region');"
   ]
  },
  {
   "cell_type": "markdown",
   "id": "5f2131c5",
   "metadata": {},
   "source": [
    "## Protest Duration\n",
    "\n",
    "- Morroco recorded the highest number of days of protest with over 900 days. "
   ]
  },
  {
   "cell_type": "code",
   "execution_count": 28,
   "id": "883686df",
   "metadata": {
    "ExecuteTime": {
     "end_time": "2022-03-30T05:54:36.055955Z",
     "start_time": "2022-03-30T05:54:35.507735Z"
    },
    "scrolled": true
   },
   "outputs": [
    {
     "data": {
      "image/png": "[encoded data removed]",
      "text/plain": [
       "<Figure size 432x288 with 1 Axes>"
      ]
     },
     "metadata": {},
     "output_type": "display_data"
    }
   ],
   "source": [
    "protests_data['duration'] = (protests_data.endperiod - protests_data.startperiod).dt.days\n",
    "protest_duration = protests_data[protests_data.columns].sort_values(by='duration', ascending=False)\n",
    "\n",
    "du_dt = protest_duration[['duration', 'country']]\\\n",
    "    .set_index(['country'])\\\n",
    "    .head(10)\\\n",
    "    .sort_values(by='duration')\n",
    "\n",
    "du_dt.plot(kind='barh')\n",
    "sns.despine(right=True);"
   ]
  },
  {
   "cell_type": "markdown",
   "id": "54b8c106",
   "metadata": {},
   "source": [
    "- Out of the over 15000 entries in the data, about 2036 entries have days above zero. This could be as a result of no records of specific time records in terms of hours, minutes and seconds. \n",
    "\n",
    "- Out of the 2036 entries, 729 entries are recorded to have a one day protest. My assumption is, we cannot have zero days when already there was a protest reported. Therefore, the zero values will be replaced with ones. (I have considered the bias factor introduced.)"
   ]
  },
  {
   "cell_type": "markdown",
   "id": "43001e90",
   "metadata": {},
   "source": [
    "## Category of Participants\n",
    "\n",
    "- The `unspecified` category has the highest frequency while participants in the categories `5000-10000` and `1000-1999` constitute less than 5% of the participant categories."
   ]
  },
  {
   "cell_type": "code",
   "execution_count": 30,
   "id": "d62b9f1d",
   "metadata": {
    "ExecuteTime": {
     "end_time": "2022-03-30T05:54:36.706890Z",
     "start_time": "2022-03-30T05:54:36.055955Z"
    },
    "scrolled": false
   },
   "outputs": [
    {
     "data": {
      "image/png": "[encoded data removed]",
      "text/plain": [
       "<Figure size 432x288 with 1 Axes>"
      ]
     },
     "metadata": {},
     "output_type": "display_data"
    }
   ],
   "source": [
    "protest_categ = protests_data\\\n",
    "    .participants_category\\\n",
    "    .value_counts(normalize=True)\\\n",
    "    .sort_values()\n",
    "ax = protest_categ.plot(kind='barh')\n",
    "ax.set(ylabel='Participant Category', \n",
    "       xlabel='Frequency in category',\n",
    "      title='Frequency of participants per Category');"
   ]
  },
  {
   "cell_type": "markdown",
   "id": "31c2f817",
   "metadata": {},
   "source": [
    "- With NLP, the `unspecified` category can be broken down into other groups. Check sentimental analysis of protest data."
   ]
  },
  {
   "cell_type": "code",
   "execution_count": 61,
   "id": "706d0f22",
   "metadata": {},
   "outputs": [
    {
     "data": {
      "text/plain": [
       "0        canada s railway passenger system was finally ...\n",
       "1        protestors were only identified as young peopl...\n",
       "2        the queen, after calling on canadians to remai...\n",
       "3        canada s federal government has agreed to acqu...\n",
       "4        protests were directed against the state due t...\n",
       "                               ...                        \n",
       "17131    supreme court ruling on monday gives sir micha...\n",
       "17132    o neill announces speech for the following day...\n",
       "17133    students boycotted class in response to propos...\n",
       "17134    protesting against a proposed six month delay ...\n",
       "17135    protesting gov ts deal w australia over asylum...\n",
       "Name: notes, Length: 5352, dtype: object"
      ]
     },
     "execution_count": 61,
     "metadata": {},
     "output_type": "execute_result"
    }
   ],
   "source": [
    "protests_data[protests_data.participants_category == 'unspecified'].notes"
   ]
  },
  {
   "cell_type": "markdown",
   "id": "54e92f00",
   "metadata": {},
   "source": [
    "## Protestor Demand\n",
    "\n",
    "- More than 60% of the protester demand was as a result of political behavior or process. Unspecified reasons accounted for a negligible percentage. "
   ]
  },
  {
   "cell_type": "code",
   "execution_count": 34,
   "id": "33f37010",
   "metadata": {
    "ExecuteTime": {
     "end_time": "2022-03-30T05:54:37.268690Z",
     "start_time": "2022-03-30T05:54:36.706890Z"
    }
   },
   "outputs": [
    {
     "data": {
      "image/png": "[encoded data removed]",
      "text/plain": [
       "<Figure size 432x288 with 1 Axes>"
      ]
     },
     "metadata": {},
     "output_type": "display_data"
    }
   ],
   "source": [
    "protest_demand = protests_data.protesterdemand1.value_counts(normalize=True)\n",
    "protest_demand.sort_values().plot(kind='barh')\n",
    "plt.title('Percentage distribution of protester demand')\n",
    "plt.xlabel('percentage')\n",
    "plt.ylabel('protester demand')\n",
    "sns.despine(right=True);"
   ]
  },
  {
   "cell_type": "markdown",
   "id": "b597503b",
   "metadata": {},
   "source": [
    "## State Response\n",
    "\n",
    "- According to the data, more than 50% of state response to protest was to ignore the protesters. About 25% of the response by states was crowd dispersal. The rest form of response were below 10%."
   ]
  },
  {
   "cell_type": "code",
   "execution_count": 35,
   "id": "f30c025b",
   "metadata": {
    "ExecuteTime": {
     "end_time": "2022-03-30T05:54:37.785658Z",
     "start_time": "2022-03-30T05:54:37.268690Z"
    }
   },
   "outputs": [
    {
     "data": {
      "image/png": "[encoded data removed]",
      "text/plain": [
       "<Figure size 432x288 with 1 Axes>"
      ]
     },
     "metadata": {},
     "output_type": "display_data"
    }
   ],
   "source": [
    "protests_data.stateresponse1.value_counts(normalize=True)\\\n",
    "    .sort_values() \\\n",
    "    .plot(kind='barh')\n",
    "plt.ylabel('State response')\n",
    "plt.xlabel('Percentages based on response')\n",
    "plt.title('How states respond to protests');"
   ]
  },
  {
   "cell_type": "markdown",
   "id": "68bfe711",
   "metadata": {},
   "source": [
    "## Violent or Non-Violent Protest?\n",
    "\n",
    "- Almost 74% of the protests were non-violent."
   ]
  },
  {
   "cell_type": "code",
   "execution_count": 65,
   "id": "13d8d641",
   "metadata": {
    "ExecuteTime": {
     "end_time": "2022-03-30T05:54:38.186744Z",
     "start_time": "2022-03-30T05:54:37.785658Z"
    },
    "scrolled": true
   },
   "outputs": [
    {
     "data": {
      "image/png": "[encoded data removed]",
      "text/plain": [
       "<Figure size 360x504 with 1 Axes>"
      ]
     },
     "metadata": {},
     "output_type": "display_data"
    }
   ],
   "source": [
    "protest_viol = protests_data.protesterviolence.value_counts()\n",
    "colors = sns.color_palette('RdBu')[3:]\n",
    "plt.subplots(figsize=(5, 7))\n",
    "protest_viol.plot(kind='pie', colors=colors, autopct='%.1f%%', \n",
    "                  fontsize=18, explode=[0.03, 0.05])\n",
    "plt.title('Percentage of violent and non-violent protests ')\n",
    "plt.legend(('non-violent', 'violent'))\n",
    "plt.ylabel('Protester violence');"
   ]
  },
  {
   "cell_type": "markdown",
   "id": "9b6d34f8",
   "metadata": {},
   "source": [
    "# **Kenya Analysis**\n",
    "\n",
    "7. Narrow into Kenya\n",
    "    1. Trend of protests over the year\n",
    "    2. What is the most common reason for protest\n",
    "    3. What is the common response by state\n",
    "    4. Longest and shortest protest\n",
    "    5. Location where most protest happen\n",
    "    6. How do people participate based on participants category\n",
    "    7. Identity of the most protesters\n",
    "    8. Frequency of violent protests\n",
    "    9. By looking at the notes, can we determine the cause, reason, outcome of the protest.\n",
    "    \n",
    "- Protest data from Kenya will be used to provide insight about protest in the country and later on for model building."
   ]
  },
  {
   "cell_type": "code",
   "execution_count": null,
   "id": "ccad974c",
   "metadata": {
    "ExecuteTime": {
     "end_time": "2022-03-30T06:17:04.289536Z",
     "start_time": "2022-03-30T06:17:04.247563Z"
    }
   },
   "outputs": [],
   "source": [
    "kenya.sample()"
   ]
  },
  {
   "cell_type": "markdown",
   "id": "4fbd364f",
   "metadata": {},
   "source": [
    "## Trend of protests over the year. \n",
    "\n",
    "- From the dataset, the first strike is recorded on 18th of February 1990 while the last strike was recorded on the 20th of September 2019. From the breakdown of the protests timespan, we don't include month because it gives an unclear picture of the time span. \n",
    "\n",
    "- On average Kenya experience about 12 protests per year (Maybe a protest a month!)"
   ]
  },
  {
   "cell_type": "code",
   "execution_count": null,
   "id": "62739068",
   "metadata": {
    "ExecuteTime": {
     "end_time": "2022-03-30T05:55:51.032588Z",
     "start_time": "2022-03-30T05:55:51.001331Z"
    }
   },
   "outputs": [],
   "source": [
    "p_start = kenya.startperiod.min()\n",
    "p_end = kenya.endperiod.max()\n",
    "p_span = p_end - p_start\n",
    "p_years = p_end.year - p_start.year\n",
    "avg_protest = int(kenya.protest.sum() / p_years)\n",
    "\n",
    "\n",
    "print('''first protest: {} \n",
    "last protest: {}\n",
    "protest span (days): {} days\n",
    "protest span (years): {} years\n",
    "average of {} protests per year'''.format(p_start.strftime('%Y-%m-%d'),\n",
    "                                         p_end.strftime('%Y-%m-%d'),\n",
    "                                         p_span.days, p_years, avg_protest))"
   ]
  },
  {
   "cell_type": "markdown",
   "id": "b8e8b75b",
   "metadata": {},
   "source": [
    "**Protest Trends over time**\n",
    "\n",
    "- Let's now plot some graphs. "
   ]
  },
  {
   "cell_type": "markdown",
   "id": "af948fc0",
   "metadata": {},
   "source": [
    "- For the 29 years, majority of the months recorded protests incidences below five (some recording zero incidences). However, there are in certain years the protest reported per month exceed five with a month in 2018 recording over 25 protests."
   ]
  },
  {
   "cell_type": "code",
   "execution_count": null,
   "id": "d5a7d741",
   "metadata": {
    "ExecuteTime": {
     "end_time": "2022-03-30T05:55:51.916025Z",
     "start_time": "2022-03-30T05:55:51.032588Z"
    }
   },
   "outputs": [],
   "source": [
    "kenya.resample('M', on='startperiod').protest.count().plot()\n",
    "plt.ylabel('Protest incidences')\n",
    "plt.xlabel('Years')\n",
    "plt.title('Monthly protest incidences')"
   ]
  },
  {
   "cell_type": "markdown",
   "id": "08f13082",
   "metadata": {},
   "source": [
    "- In 2015 there were over 140 incidences of reported protests.\n",
    "- In 1994 and 2011, there were no incidence of reported protests. \n",
    "- Most years recorded protests incidence below 40"
   ]
  },
  {
   "cell_type": "code",
   "execution_count": null,
   "id": "b3e219b6",
   "metadata": {
    "ExecuteTime": {
     "end_time": "2022-03-30T05:55:52.769559Z",
     "start_time": "2022-03-30T05:55:51.916025Z"
    }
   },
   "outputs": [],
   "source": [
    "kenya.resample('Y', on='startperiod').protest.count().plot()\n",
    "plt.ylabel('Protest incidences')\n",
    "plt.xlabel('Years')\n",
    "plt.title('Yearly protest incidences');"
   ]
  },
  {
   "cell_type": "markdown",
   "id": "2626c840",
   "metadata": {},
   "source": [
    "## Protests Duration\n",
    "\n",
    "- Just like from the previous duration calculation, we can't have zero days. Therefore any value that has zero days will be reassigned the value 1."
   ]
  },
  {
   "cell_type": "code",
   "execution_count": null,
   "id": "4e52cf22",
   "metadata": {
    "ExecuteTime": {
     "end_time": "2022-03-30T05:55:52.816447Z",
     "start_time": "2022-03-30T05:55:52.769559Z"
    },
    "scrolled": true
   },
   "outputs": [],
   "source": [
    "kenya['duration'] = kenya.endperiod - kenya.startperiod\n",
    "print(f'minimum duration: {kenya.duration.min()}')\n",
    "\n",
    "kenya.duration.replace(timedelta(days=0), timedelta(days=1), inplace=True)"
   ]
  },
  {
   "cell_type": "code",
   "execution_count": null,
   "id": "4dc91d41",
   "metadata": {
    "ExecuteTime": {
     "end_time": "2022-03-30T05:55:52.847691Z",
     "start_time": "2022-03-30T05:55:52.816447Z"
    }
   },
   "outputs": [],
   "source": [
    "long_protest = kenya.duration.max().days\n",
    "short_protest = kenya.duration.min().days\n",
    "\n",
    "print(f'''longest protest: {long_protest} days\n",
    "shortest protest: {short_protest} day ''')"
   ]
  },
  {
   "cell_type": "markdown",
   "id": "ecc4e2ec",
   "metadata": {},
   "source": [
    "- Approximately 94% of the protests occurred in 1 day. Apart from the 1 day, 2 days and 4 days, the remaining protest days were only record as one incidence."
   ]
  },
  {
   "cell_type": "code",
   "execution_count": null,
   "id": "b4ef92f0",
   "metadata": {
    "ExecuteTime": {
     "end_time": "2022-03-30T05:55:52.885460Z",
     "start_time": "2022-03-30T05:55:52.847691Z"
    }
   },
   "outputs": [],
   "source": [
    "kenya.duration.value_counts(normalize=True) * 100"
   ]
  },
  {
   "cell_type": "markdown",
   "id": "9ee80a4f",
   "metadata": {
    "ExecuteTime": {
     "end_time": "2022-03-28T13:50:53.706015Z",
     "start_time": "2022-03-28T13:50:53.628383Z"
    }
   },
   "source": [
    "## Protester Demands \n",
    "\n",
    "- Seems like there is a reason for protest in Kenya, with no protest categorized as unclassified.\n",
    "- Majority of the protests are for political behavior and process (about 43%) "
   ]
  },
  {
   "cell_type": "code",
   "execution_count": null,
   "id": "9c812937",
   "metadata": {
    "ExecuteTime": {
     "end_time": "2022-03-30T05:55:53.427618Z",
     "start_time": "2022-03-30T05:55:52.885460Z"
    }
   },
   "outputs": [],
   "source": [
    "(kenya.protesterdemand1.value_counts(normalize=True)*100)\\\n",
    "        .sort_values()\\\n",
    "        .plot(kind='barh')\n",
    "\n",
    "plt.xlabel('Percentage of protester demands')\n",
    "plt.ylabel('protest demand')\n",
    "plt.title('Protester Demands in percentages');"
   ]
  },
  {
   "cell_type": "markdown",
   "id": "86181caa",
   "metadata": {},
   "source": [
    "## State Response \n",
    "\n",
    "- More that 40% of state response is to ignore the protester demands. \n",
    "- About 38% of the response is crowd dispersal. \n",
    "- Beatings and killings are below 1% each"
   ]
  },
  {
   "cell_type": "code",
   "execution_count": null,
   "id": "cbd98080",
   "metadata": {
    "ExecuteTime": {
     "end_time": "2022-03-30T05:55:53.458866Z",
     "start_time": "2022-03-30T05:55:53.427618Z"
    }
   },
   "outputs": [],
   "source": [
    "(kenya.stateresponse1.value_counts(normalize=True)*100)"
   ]
  },
  {
   "cell_type": "code",
   "execution_count": null,
   "id": "cee3a9e0",
   "metadata": {
    "ExecuteTime": {
     "end_time": "2022-03-30T05:55:53.975844Z",
     "start_time": "2022-03-30T05:55:53.458866Z"
    }
   },
   "outputs": [],
   "source": [
    "(kenya.stateresponse1.value_counts(normalize=True)*100)\\\n",
    "        .sort_values()\\\n",
    "        .plot(kind='barh')\n",
    "plt.xlabel('Percentage of State response')\n",
    "plt.ylabel('State Response')\n",
    "plt.title('State Response in percentages');"
   ]
  },
  {
   "cell_type": "markdown",
   "id": "4728b496",
   "metadata": {},
   "source": [
    "## Participant Category\n",
    "\n",
    "- About 45% of the protesters were in a group of 50 to 99 participants.\n",
    "- About 40% were a group of 100-999.\n",
    "- Larger groups, that is, 5000 and more share a combined percentage of about 3%\n",
    "- About 1.5% of the groups are unspecified."
   ]
  },
  {
   "cell_type": "code",
   "execution_count": null,
   "id": "0ec2eae7",
   "metadata": {
    "ExecuteTime": {
     "end_time": "2022-03-30T05:55:54.477198Z",
     "start_time": "2022-03-30T05:55:53.975844Z"
    }
   },
   "outputs": [],
   "source": [
    "(kenya.participants_category.value_counts(normalize=True)*100)\\\n",
    "        .sort_values()\\\n",
    "        .plot(kind='barh')\n",
    "\n",
    "plt.xlabel('Percentage of participants')\n",
    "plt.ylabel('Group size')\n",
    "plt.title('Percentage of participants in each category')"
   ]
  },
  {
   "cell_type": "markdown",
   "id": "b5627bad",
   "metadata": {},
   "source": [
    "## Violent or Peaceful Protests\n",
    "\n"
   ]
  },
  {
   "cell_type": "code",
   "execution_count": null,
   "id": "26484f25",
   "metadata": {
    "ExecuteTime": {
     "end_time": "2022-03-30T05:55:54.878275Z",
     "start_time": "2022-03-30T05:55:54.477198Z"
    }
   },
   "outputs": [],
   "source": [
    "plt.subplots(figsize=(5, 5))\n",
    "colors = sns.color_palette('RdBu')[3:]\n",
    "kenya.protesterviolence.value_counts().plot(kind='pie', autopct='%.1f%%', colors=colors)\n",
    "plt.title('Percentage of violent and non-violent protests ')\n",
    "plt.legend(('non-violent', 'violent'))\n",
    "plt.ylabel('');"
   ]
  },
  {
   "cell_type": "markdown",
   "id": "c4594fbf",
   "metadata": {},
   "source": [
    "## Location where most protest happen\n",
    "\n",
    "- There are over 150 unique locations. \n",
    "- Question will be answered once enough insight is gained about NLP."
   ]
  },
  {
   "cell_type": "markdown",
   "id": "6d642681",
   "metadata": {},
   "source": [
    "## Protesters Identity\n",
    "\n",
    "- Will be covered later on"
   ]
  },
  {
   "cell_type": "markdown",
   "id": "3745b943",
   "metadata": {},
   "source": [
    "## Sentiment Analysis\n",
    "\n",
    "- Will be covered later on"
   ]
  },
  {
   "cell_type": "markdown",
   "id": "a2ae5abd",
   "metadata": {},
   "source": [
    "# Model Building\n",
    "\n"
   ]
  },
  {
   "cell_type": "code",
   "execution_count": null,
   "id": "3f0ff45e",
   "metadata": {},
   "outputs": [],
   "source": []
  },
  {
   "cell_type": "markdown",
   "id": "6c601456",
   "metadata": {},
   "source": [
    "## Model Building World\n",
    "\n",
    "Let's build a classifier model that can predict if a protest is violent or non-violent.\n",
    "\n",
    "- With this data, can we predict if a protest will be non-violent or violent.\n",
    "- \n",
    "- The following columns will be dropped: 'id', 'ccode', 'startperiod', 'endperiod', 'notes', 'sources', 'location', 'participants', 'protesteridentity'"
   ]
  },
  {
   "cell_type": "code",
   "execution_count": null,
   "id": "75fc4d1c",
   "metadata": {
    "ExecuteTime": {
     "end_time": "2022-03-30T05:54:38.202368Z",
     "start_time": "2022-03-30T05:54:38.186744Z"
    }
   },
   "outputs": [],
   "source": [
    "rem = ['id', 'ccode', 'startperiod', 'endperiod', 'notes', 'sources', 'location', 'participants', 'protesteridentity']\n",
    "\n",
    "protests.drop(rem, axis=1, inplace=True)"
   ]
  },
  {
   "cell_type": "markdown",
   "id": "c4fffb3f",
   "metadata": {},
   "source": [
    "- Encoding the values to numerical data types as required by sklearn."
   ]
  },
  {
   "cell_type": "code",
   "execution_count": null,
   "id": "7ab10afa",
   "metadata": {
    "ExecuteTime": {
     "end_time": "2022-03-30T05:54:38.587839Z",
     "start_time": "2022-03-30T05:54:38.217992Z"
    }
   },
   "outputs": [],
   "source": [
    "columns = ['country', 'participants_category', 'protesterdemand1', 'stateresponse1', 'region']\n",
    "\n",
    "def cat_encode(df, columns):\n",
    "    for i in columns:\n",
    "        entry = df[i].unique()\n",
    "        repl = np.arange(len(entry))\n",
    "        new = df[i].replace(entry, repl, inplace=True)\n",
    "    return new\n",
    "\n",
    "cat_encode(protests, columns)"
   ]
  },
  {
   "cell_type": "markdown",
   "id": "29ebcfaf",
   "metadata": {},
   "source": [
    "- There is no zero days in duration so we change the zeros to ones"
   ]
  },
  {
   "cell_type": "code",
   "execution_count": null,
   "id": "590183f8",
   "metadata": {
    "ExecuteTime": {
     "end_time": "2022-03-30T05:54:38.619065Z",
     "start_time": "2022-03-30T05:54:38.587839Z"
    }
   },
   "outputs": [],
   "source": [
    "protests.duration.replace(0, 1, inplace=True)"
   ]
  },
  {
   "cell_type": "code",
   "execution_count": null,
   "id": "f654a088",
   "metadata": {
    "ExecuteTime": {
     "end_time": "2022-03-30T05:54:38.672466Z",
     "start_time": "2022-03-30T05:54:38.619065Z"
    },
    "scrolled": false
   },
   "outputs": [],
   "source": [
    "protests.info()"
   ]
  },
  {
   "cell_type": "markdown",
   "id": "f397c1ed",
   "metadata": {},
   "source": [
    "- Creating arrays of feature and targets: The column protest is also dropped because it only contains one unique value."
   ]
  },
  {
   "cell_type": "code",
   "execution_count": null,
   "id": "65d33907",
   "metadata": {
    "ExecuteTime": {
     "end_time": "2022-03-30T05:54:38.703710Z",
     "start_time": "2022-03-30T05:54:38.672466Z"
    }
   },
   "outputs": [],
   "source": [
    "X = protests.drop(['protesterviolence', 'protest'], axis=1).values\n",
    "y = protests.protesterviolence.values\n",
    "\n",
    "X.shape, y.shape"
   ]
  },
  {
   "cell_type": "markdown",
   "id": "34c90101",
   "metadata": {},
   "source": [
    "- Splitting the data into training and test sets"
   ]
  },
  {
   "cell_type": "code",
   "execution_count": null,
   "id": "34c32f82",
   "metadata": {
    "ExecuteTime": {
     "end_time": "2022-03-30T05:54:38.750585Z",
     "start_time": "2022-03-30T05:54:38.703710Z"
    }
   },
   "outputs": [],
   "source": [
    "X_train, X_test, y_train, y_test = \\\n",
    "            train_test_split(X, y, random_state=42, test_size=0.3, stratify=y)"
   ]
  },
  {
   "cell_type": "markdown",
   "id": "054a06c4",
   "metadata": {},
   "source": [
    "- Creating a pipeline"
   ]
  },
  {
   "cell_type": "code",
   "execution_count": null,
   "id": "eb2bba5c",
   "metadata": {
    "ExecuteTime": {
     "end_time": "2022-03-30T05:54:38.772731Z",
     "start_time": "2022-03-30T05:54:38.750585Z"
    }
   },
   "outputs": [],
   "source": [
    "steps = [('scaler', StandardScaler(with_mean=False)), ('classifier', SVC())]\n",
    "pipeline = Pipeline(steps)"
   ]
  },
  {
   "cell_type": "markdown",
   "id": "c2ecc6dc",
   "metadata": {},
   "source": [
    "- Training the pipeline"
   ]
  },
  {
   "cell_type": "code",
   "execution_count": null,
   "id": "8acbd511",
   "metadata": {
    "ExecuteTime": {
     "end_time": "2022-03-30T05:54:46.752749Z",
     "start_time": "2022-03-30T05:54:38.772731Z"
    }
   },
   "outputs": [],
   "source": [
    "pipeline.fit(X_train, y_train)"
   ]
  },
  {
   "cell_type": "markdown",
   "id": "ee942f96",
   "metadata": {},
   "source": [
    "- Getting predictions and obtaining the classification report"
   ]
  },
  {
   "cell_type": "code",
   "execution_count": null,
   "id": "80f81160",
   "metadata": {
    "ExecuteTime": {
     "end_time": "2022-03-30T05:54:52.317901Z",
     "start_time": "2022-03-30T05:54:46.752749Z"
    }
   },
   "outputs": [],
   "source": [
    "ypred = pipeline.predict(X_test)"
   ]
  },
  {
   "cell_type": "code",
   "execution_count": null,
   "id": "2e6c30a3",
   "metadata": {
    "ExecuteTime": {
     "end_time": "2022-03-30T05:54:52.374797Z",
     "start_time": "2022-03-30T05:54:52.317901Z"
    }
   },
   "outputs": [],
   "source": [
    "print(classification_report(y_test, ypred))"
   ]
  },
  {
   "cell_type": "markdown",
   "id": "6458f47e",
   "metadata": {},
   "source": [
    "- Everything here: With some hyperparameter tunning, classifier achieves an accuracy of 80% (previously, 77%)."
   ]
  },
  {
   "cell_type": "code",
   "execution_count": null,
   "id": "f215b2e7",
   "metadata": {
    "ExecuteTime": {
     "end_time": "2022-03-30T05:55:23.099913Z",
     "start_time": "2022-03-30T05:54:52.374797Z"
    }
   },
   "outputs": [],
   "source": [
    "X = protests.drop(['protesterviolence', 'protest'], axis=1).values\n",
    "y = protests.protesterviolence.values\n",
    "X_train, X_test, y_train, y_test = \\\n",
    "            train_test_split(X, y, random_state=42, test_size=0.15, stratify=y)\n",
    "\n",
    "steps = [('scaler', StandardScaler(with_mean=False)), ('classifier', SVC(gamma=0.1, C=100))]\n",
    "pipeline = Pipeline(steps)\n",
    "pipeline.fit(X_train, y_train)\n",
    "ypred = pipeline.predict(X_test)\n",
    "print(classification_report(y_test, ypred))"
   ]
  },
  {
   "cell_type": "markdown",
   "id": "55f32464",
   "metadata": {},
   "source": [
    "- Trying other classifiers without tunning:\n",
    "    - knn gives 80% accuracy without tunning\n",
    "    - logistic regression yields 74%.\n",
    "    \n",
    "- The model is subject to modification as more knowledge comes to light"
   ]
  },
  {
   "cell_type": "code",
   "execution_count": null,
   "id": "27663139",
   "metadata": {
    "ExecuteTime": {
     "end_time": "2022-03-30T05:55:23.278324Z",
     "start_time": "2022-03-30T05:55:23.099913Z"
    }
   },
   "outputs": [],
   "source": [
    "steps = [('scaler', StandardScaler(with_mean=False)), ('classifier', LogisticRegression())]\n",
    "pipeline = Pipeline(steps)\n",
    "pipeline.fit(X_train, y_train)\n",
    "ypred = pipeline.predict(X_test)\n",
    "print(classification_report(y_test, ypred))"
   ]
  },
  {
   "cell_type": "code",
   "execution_count": null,
   "id": "6e537739",
   "metadata": {
    "ExecuteTime": {
     "end_time": "2022-03-30T05:55:23.316091Z",
     "start_time": "2022-03-30T05:55:23.278324Z"
    }
   },
   "outputs": [],
   "source": [
    "test_2 = pd.DataFrame({'country': np.random.randint(0, 167, size=513),\n",
    "                       'region': np.random.randint(0, 7, size=513),\n",
    "                       'protestnumber': np.random.randint(1, 144, size=513),\n",
    "                       'protesterviolence': np.random.randint(0, 2, size=513),\n",
    "                       'participant_category': np.random.randint(0, 7, size=513),\n",
    "                       'protesterdemand1': np.random.randint(0, 8, size=513),\n",
    "                       'stateresponse1': np.random.randint(0, 8, size=513),\n",
    "                       'duration': np.random.randint(1, 10, size=513)})"
   ]
  },
  {
   "cell_type": "code",
   "execution_count": null,
   "id": "dbe82957",
   "metadata": {
    "ExecuteTime": {
     "end_time": "2022-03-30T05:55:23.362965Z",
     "start_time": "2022-03-30T05:55:23.316091Z"
    }
   },
   "outputs": [],
   "source": [
    "test_2.head(2)"
   ]
  },
  {
   "cell_type": "code",
   "execution_count": null,
   "id": "ab2c98d7",
   "metadata": {
    "ExecuteTime": {
     "end_time": "2022-03-30T05:55:51.001331Z",
     "start_time": "2022-03-30T05:55:23.362965Z"
    }
   },
   "outputs": [],
   "source": [
    "X_test2 = test_2.drop('protesterviolence', axis=1).values\n",
    "y_test2 = test_2.protesterviolence.values\n",
    "\n",
    "steps = [('scaler', StandardScaler(with_mean=False)), ('classifier', SVC(gamma=0.1, C=100))]\n",
    "pipeline = Pipeline(steps)\n",
    "pipeline.fit(X_train, y_train)\n",
    "\n",
    "y_pred2 = pipeline.predict(X_test2)\n",
    "print(classification_report(y_test2, y_pred2))"
   ]
  }
 ],
 "metadata": {
  "kernelspec": {
   "display_name": "Python 3 (ipykernel)",
   "language": "python",
   "name": "python3"
  },
  "language_info": {
   "codemirror_mode": {
    "name": "ipython",
    "version": 3
   },
   "file_extension": ".py",
   "mimetype": "text/x-python",
   "name": "python",
   "nbconvert_exporter": "python",
   "pygments_lexer": "ipython3",
   "version": "3.8.13"
  },
  "toc": {
   "base_numbering": 1,
   "nav_menu": {},
   "number_sections": true,
   "sideBar": true,
   "skip_h1_title": false,
   "title_cell": "Table of Contents",
   "title_sidebar": "Contents",
   "toc_cell": false,
   "toc_position": {
    "height": "calc(100% - 180px)",
    "left": "10px",
    "top": "150px",
    "width": "189.2px"
   },
   "toc_section_display": true,
   "toc_window_display": true
  },
  "varInspector": {
   "cols": {
    "lenName": 16,
    "lenType": 16,
    "lenVar": 40
   },
   "kernels_config": {
    "python": {
     "delete_cmd_postfix": "",
     "delete_cmd_prefix": "del ",
     "library": "var_list.py",
     "varRefreshCmd": "print(var_dic_list())"
    },
    "r": {
     "delete_cmd_postfix": ") ",
     "delete_cmd_prefix": "rm(",
     "library": "var_list.r",
     "varRefreshCmd": "cat(var_dic_list()) "
    }
   },
   "types_to_exclude": [
    "module",
    "function",
    "builtin_function_or_method",
    "instance",
    "_Feature"
   ],
   "window_display": false
  }
 },
 "nbformat": 4,
 "nbformat_minor": 5
}
